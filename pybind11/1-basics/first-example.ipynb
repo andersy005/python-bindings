{
 "cells": [
  {
   "cell_type": "markdown",
   "metadata": {
    "toc": true
   },
   "source": [
    "<h1>Table of Contents<span class=\"tocSkip\"></span></h1>\n",
    "<div class=\"toc\"><ul class=\"toc-item\"><li><span><a href=\"#Header-and-namespace-conventions\" data-toc-modified-id=\"Header-and-namespace-conventions-1\">Header and namespace conventions</a></span></li><li><span><a href=\"#Creating-bindings-for-a-simple-function\" data-toc-modified-id=\"Creating-bindings-for-a-simple-function-2\">Creating bindings for a simple function</a></span></li><li><span><a href=\"#Keyword-arguments\" data-toc-modified-id=\"Keyword-arguments-3\">Keyword arguments</a></span></li><li><span><a href=\"#Default-arguments\" data-toc-modified-id=\"Default-arguments-4\">Default arguments</a></span></li><li><span><a href=\"#Exporting-variables\" data-toc-modified-id=\"Exporting-variables-5\">Exporting variables</a></span></li></ul></div>"
   ]
  },
  {
   "cell_type": "markdown",
   "metadata": {},
   "source": [
    "## Header and namespace conventions\n",
    "\n",
    "For brevity, all code examples assume that the following two lines are present:\n",
    "\n",
    "```cpp\n",
    "#include <pybind11/pybind11.h>\n",
    "\n",
    "namespace py = pybind11;\n",
    "```"
   ]
  },
  {
   "cell_type": "markdown",
   "metadata": {},
   "source": [
    "## Creating bindings for a simple function\n"
   ]
  },
  {
   "cell_type": "code",
   "execution_count": 1,
   "metadata": {},
   "outputs": [
    {
     "name": "stdout",
     "output_type": "stream",
     "text": [
      "Overwriting example.cpp\n"
     ]
    }
   ],
   "source": [
    "%%file example.cpp\n",
    "\n",
    "#include <pybind11/pybind11.h>\n",
    "namespace py = pybind11;\n",
    "\n",
    "int add(int i, int j) {\n",
    "    return i + j;\n",
    "}\n",
    "\n",
    "PYBIND11_MODULE(example, m) {\n",
    "    m.doc() = \"pybind11 example plugin\"; // optional module docstring\n",
    "    m.def(\"add\", &add, \"A function which adds two numbers\");\n",
    "}"
   ]
  },
  {
   "cell_type": "code",
   "execution_count": 2,
   "metadata": {},
   "outputs": [
    {
     "name": "stdout",
     "output_type": "stream",
     "text": [
      "example2.cpp\r\n",
      "example3.cpp\r\n",
      "\u001b[0m\u001b[01;32mexample3.cpython-36m-x86_64-linux-gnu.so\u001b[0m*\r\n",
      "example4.cpp\r\n",
      "\u001b[01;32mexample4.cpython-36m-x86_64-linux-gnu.so\u001b[0m*\r\n",
      "example.cpp\r\n",
      "\u001b[01;32mexample.cpython-36m-x86_64-linux-gnu.so\u001b[0m*\r\n",
      "first-example.ipynb\r\n"
     ]
    }
   ],
   "source": [
    "ls"
   ]
  },
  {
   "cell_type": "markdown",
   "metadata": {},
   "source": [
    "Building the above C++ code will produce a binary module file that can be imported to Python. Assuming that the compiled module is located in the current directory, the following interactive Python session shows how to load and execute the example:"
   ]
  },
  {
   "cell_type": "code",
   "execution_count": 3,
   "metadata": {},
   "outputs": [],
   "source": [
    "!c++ -O3 -Wall -shared -std=c++11 -fPIC `python3 -m pybind11 --includes` example.cpp -o example`python3-config --extension-suffix`"
   ]
  },
  {
   "cell_type": "code",
   "execution_count": 4,
   "metadata": {},
   "outputs": [
    {
     "name": "stdout",
     "output_type": "stream",
     "text": [
      "example2.cpp\r\n",
      "example3.cpp\r\n",
      "\u001b[0m\u001b[01;32mexample3.cpython-36m-x86_64-linux-gnu.so\u001b[0m*\r\n",
      "example4.cpp\r\n",
      "\u001b[01;32mexample4.cpython-36m-x86_64-linux-gnu.so\u001b[0m*\r\n",
      "example.cpp\r\n",
      "\u001b[01;32mexample.cpython-36m-x86_64-linux-gnu.so\u001b[0m*\r\n",
      "first-example.ipynb\r\n"
     ]
    }
   ],
   "source": [
    "ls"
   ]
  },
  {
   "cell_type": "code",
   "execution_count": 5,
   "metadata": {},
   "outputs": [],
   "source": [
    "import example"
   ]
  },
  {
   "cell_type": "code",
   "execution_count": 6,
   "metadata": {},
   "outputs": [
    {
     "data": {
      "text/plain": [
       "3"
      ]
     },
     "execution_count": 6,
     "metadata": {},
     "output_type": "execute_result"
    }
   ],
   "source": [
    "example.add(1, 2)"
   ]
  },
  {
   "cell_type": "markdown",
   "metadata": {},
   "source": [
    "## Keyword arguments"
   ]
  },
  {
   "cell_type": "code",
   "execution_count": 7,
   "metadata": {},
   "outputs": [
    {
     "name": "stdout",
     "output_type": "stream",
     "text": [
      "Overwriting example2.cpp\n"
     ]
    }
   ],
   "source": [
    "%%file example2.cpp\n",
    "\n",
    "#include <pybind11/pybind11.h>\n",
    "namespace py = pybind11;\n",
    "\n",
    "int add(int i, int j) {\n",
    "    return i + j;\n",
    "}\n",
    "\n",
    "PYBIND11_MODULE(example2, m) {\n",
    "    m.doc() = \"pybind11 example plugin\"; // optional module docstring\n",
    "    m.def(\"add\", &add, \"A function which adds two numbers\",\n",
    "          py::arg(\"i\"), py::arg(\"j\"));\n",
    "}"
   ]
  },
  {
   "cell_type": "code",
   "execution_count": 8,
   "metadata": {},
   "outputs": [],
   "source": [
    "!c++ -O3 -Wall -shared -std=c++11 -fPIC `python3 -m pybind11 --includes` example2.cpp -o example2`python3-config --extension-suffix`"
   ]
  },
  {
   "cell_type": "code",
   "execution_count": 9,
   "metadata": {},
   "outputs": [],
   "source": [
    "import example2"
   ]
  },
  {
   "cell_type": "code",
   "execution_count": 10,
   "metadata": {},
   "outputs": [
    {
     "data": {
      "text/plain": [
       "3"
      ]
     },
     "execution_count": 10,
     "metadata": {},
     "output_type": "execute_result"
    }
   ],
   "source": [
    "example2.add(i=1, j=2)"
   ]
  },
  {
   "cell_type": "code",
   "execution_count": 11,
   "metadata": {},
   "outputs": [
    {
     "name": "stdout",
     "output_type": "stream",
     "text": [
      "Help on module example2:\n",
      "\n",
      "NAME\n",
      "    example2 - pybind11 example plugin\n",
      "\n",
      "FUNCTIONS\n",
      "    add(...) method of builtins.PyCapsule instance\n",
      "        add(i: int, j: int) -> int\n",
      "        \n",
      "        A function which adds two numbers\n",
      "\n",
      "FILE\n",
      "    /home/abanihirwe/devel/python-bindings/1-basics/example2.cpython-36m-x86_64-linux-gnu.so\n",
      "\n",
      "\n"
     ]
    }
   ],
   "source": [
    "help(example2)"
   ]
  },
  {
   "cell_type": "markdown",
   "metadata": {},
   "source": [
    "A shorter notation for named arguments is also available:\n",
    "\n",
    "```cpp\n",
    "// regular notation\n",
    "m.def(\"add1\", &add, py::arg(\"i\"), py::arg(\"j\"));\n",
    "// shorthand\n",
    "using namespace pybind11::literals;\n",
    "m.def(\"add2\", &add, \"i\"_a, \"j\"_a);\n",
    "```"
   ]
  },
  {
   "cell_type": "markdown",
   "metadata": {},
   "source": [
    "## Default arguments"
   ]
  },
  {
   "cell_type": "code",
   "execution_count": 12,
   "metadata": {},
   "outputs": [
    {
     "name": "stdout",
     "output_type": "stream",
     "text": [
      "Overwriting example3.cpp\n"
     ]
    }
   ],
   "source": [
    "%%file example3.cpp\n",
    "\n",
    "#include <pybind11/pybind11.h>\n",
    "namespace py = pybind11;\n",
    "\n",
    "int add(int i = 10, int j = 30) {\n",
    "    return i + j;\n",
    "}\n",
    "\n",
    "PYBIND11_MODULE(example3, m) {\n",
    "    m.doc() = \"pybind11 example plugin\"; // optional module docstring\n",
    "    m.def(\"add\", &add, \"A function which adds two numbers\",\n",
    "          py::arg(\"i\") = 10, py::arg(\"j\") = 30);\n",
    "}"
   ]
  },
  {
   "cell_type": "code",
   "execution_count": 13,
   "metadata": {},
   "outputs": [],
   "source": [
    "!c++ -O3 -Wall -shared -std=c++11 -fPIC `python3 -m pybind11 --includes` example3.cpp -o example3`python3-config --extension-suffix`"
   ]
  },
  {
   "cell_type": "code",
   "execution_count": 14,
   "metadata": {},
   "outputs": [],
   "source": [
    "import example3"
   ]
  },
  {
   "cell_type": "code",
   "execution_count": 15,
   "metadata": {},
   "outputs": [
    {
     "data": {
      "text/plain": [
       "40"
      ]
     },
     "execution_count": 15,
     "metadata": {},
     "output_type": "execute_result"
    }
   ],
   "source": [
    "example3.add()"
   ]
  },
  {
   "cell_type": "code",
   "execution_count": 16,
   "metadata": {},
   "outputs": [
    {
     "name": "stdout",
     "output_type": "stream",
     "text": [
      "Help on module example3:\n",
      "\n",
      "NAME\n",
      "    example3 - pybind11 example plugin\n",
      "\n",
      "FUNCTIONS\n",
      "    add(...) method of builtins.PyCapsule instance\n",
      "        add(i: int=10, j: int=30) -> int\n",
      "        \n",
      "        A function which adds two numbers\n",
      "\n",
      "FILE\n",
      "    /home/abanihirwe/devel/python-bindings/1-basics/example3.cpython-36m-x86_64-linux-gnu.so\n",
      "\n",
      "\n"
     ]
    }
   ],
   "source": [
    "help(example3)"
   ]
  },
  {
   "cell_type": "markdown",
   "metadata": {},
   "source": [
    "## Exporting variables"
   ]
  },
  {
   "cell_type": "markdown",
   "metadata": {},
   "source": [
    "To expose a value from C++, use the `attr` function to register it in a module as shown below. Built-in types and general objects (more on that later) are automatically converted when assigned as attributes, and can be explicitly converted using the function `py::cast`."
   ]
  },
  {
   "cell_type": "code",
   "execution_count": 17,
   "metadata": {},
   "outputs": [
    {
     "name": "stdout",
     "output_type": "stream",
     "text": [
      "Overwriting example4.cpp\n"
     ]
    }
   ],
   "source": [
    "%%file example4.cpp\n",
    "\n",
    "#include <pybind11/pybind11.h>\n",
    "namespace py = pybind11;\n",
    "\n",
    "\n",
    "PYBIND11_MODULE(example4, m) {\n",
    "   m.attr(\"the_answer\") = 42;\n",
    "   py::object world = py::cast(\"World\");\n",
    "   m.attr(\"what\") = world;\n",
    "}"
   ]
  },
  {
   "cell_type": "code",
   "execution_count": 18,
   "metadata": {},
   "outputs": [],
   "source": [
    "!c++ -O3 -Wall -shared -std=c++11 -fPIC `python3 -m pybind11 --includes` example4.cpp -o example4`python3-config --extension-suffix`"
   ]
  },
  {
   "cell_type": "code",
   "execution_count": 19,
   "metadata": {},
   "outputs": [],
   "source": [
    "import example4"
   ]
  },
  {
   "cell_type": "code",
   "execution_count": 20,
   "metadata": {},
   "outputs": [
    {
     "data": {
      "text/plain": [
       "42"
      ]
     },
     "execution_count": 20,
     "metadata": {},
     "output_type": "execute_result"
    }
   ],
   "source": [
    "example4.the_answer"
   ]
  },
  {
   "cell_type": "code",
   "execution_count": 21,
   "metadata": {},
   "outputs": [
    {
     "data": {
      "text/plain": [
       "'World'"
      ]
     },
     "execution_count": 21,
     "metadata": {},
     "output_type": "execute_result"
    }
   ],
   "source": [
    "example4.what"
   ]
  }
 ],
 "metadata": {
  "kernelspec": {
   "display_name": "Python 3",
   "language": "python",
   "name": "python3"
  },
  "language_info": {
   "codemirror_mode": {
    "name": "ipython",
    "version": 3
   },
   "file_extension": ".py",
   "mimetype": "text/x-python",
   "name": "python",
   "nbconvert_exporter": "python",
   "pygments_lexer": "ipython3",
   "version": "3.6.5"
  },
  "toc": {
   "base_numbering": 1,
   "nav_menu": {},
   "number_sections": false,
   "sideBar": true,
   "skip_h1_title": false,
   "title_cell": "Table of Contents",
   "title_sidebar": "Contents",
   "toc_cell": true,
   "toc_position": {},
   "toc_section_display": true,
   "toc_window_display": true
  }
 },
 "nbformat": 4,
 "nbformat_minor": 2
}
