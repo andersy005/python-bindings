{
 "cells": [
  {
   "cell_type": "markdown",
   "metadata": {
    "toc": true
   },
   "source": [
    "<h1>Table of Contents<span class=\"tocSkip\"></span></h1>\n",
    "<div class=\"toc\"><ul class=\"toc-item\"><li><span><a href=\"#Creating-bindings-for-a-custom-type\" data-toc-modified-id=\"Creating-bindings-for-a-custom-type-1\">Creating bindings for a custom type</a></span></li><li><span><a href=\"#Binding-lambda-functions\" data-toc-modified-id=\"Binding-lambda-functions-2\">Binding lambda functions</a></span></li><li><span><a href=\"#Instance-and-static-fields\" data-toc-modified-id=\"Instance-and-static-fields-3\">Instance and static fields</a></span></li><li><span><a href=\"#Dynamic-attributes\" data-toc-modified-id=\"Dynamic-attributes-4\">Dynamic attributes</a></span></li><li><span><a href=\"#Inheritance-and-automatic-upcasting\" data-toc-modified-id=\"Inheritance-and-automatic-upcasting-5\">Inheritance and automatic upcasting</a></span></li><li><span><a href=\"#Overloaded-methods\" data-toc-modified-id=\"Overloaded-methods-6\">Overloaded methods</a></span></li><li><span><a href=\"#Enumerations-and-internal-types\" data-toc-modified-id=\"Enumerations-and-internal-types-7\">Enumerations and internal types</a></span></li></ul></div>"
   ]
  },
  {
   "cell_type": "markdown",
   "metadata": {},
   "source": [
    "## Creating bindings for a custom type"
   ]
  },
  {
   "cell_type": "code",
   "execution_count": 1,
   "metadata": {},
   "outputs": [
    {
     "name": "stdout",
     "output_type": "stream",
     "text": [
      "Overwriting example.cpp\n"
     ]
    }
   ],
   "source": [
    "%%file example.cpp \n",
    "\n",
    "#include <pybind11/pybind11.h>\n",
    "namespace py = pybind11;\n",
    "\n",
    "struct Pet {\n",
    "    Pet(const std::string &name) : name(name) { }\n",
    "    void setName(const std::string &name_) { name = name_; }\n",
    "    const std::string &getName() const { return name; }\n",
    "    \n",
    "    std::string name;\n",
    "};\n",
    "\n",
    "PYBIND11_MODULE(example, m) {\n",
    "    py::class_<Pet>(m, \"Pet\", py::module_local())\n",
    "        .def(py::init<const std::string &>())\n",
    "        .def(\"setName\", &Pet::setName)\n",
    "        .def(\"getName\", &Pet::getName);\n",
    "}"
   ]
  },
  {
   "cell_type": "markdown",
   "metadata": {},
   "source": [
    "- `class_` creates bindings for a C++ class or struct-style data structure. \n",
    "- `init()` is a convenience function that takes the types of a constructor’s parameters as template arguments and wraps the corresponding constructor"
   ]
  },
  {
   "cell_type": "code",
   "execution_count": 2,
   "metadata": {},
   "outputs": [],
   "source": [
    "!c++ -O3 -Wall -shared -std=c++11 -fPIC `python3 -m pybind11 --includes` example.cpp -o example`python3-config --extension-suffix`"
   ]
  },
  {
   "cell_type": "code",
   "execution_count": 3,
   "metadata": {},
   "outputs": [
    {
     "name": "stdout",
     "output_type": "stream",
     "text": [
      "example2.cpp\r\n",
      "\u001b[0m\u001b[01;32mexample2.cpython-36m-x86_64-linux-gnu.so\u001b[0m*\r\n",
      "example3.cpp\r\n",
      "\u001b[01;32mexample3.cpython-36m-x86_64-linux-gnu.so\u001b[0m*\r\n",
      "example4.cpp\r\n",
      "\u001b[01;32mexample4.cpython-36m-x86_64-linux-gnu.so\u001b[0m*\r\n",
      "example5.cpp\r\n",
      "\u001b[01;32mexample5.cpython-36m-x86_64-linux-gnu.so\u001b[0m*\r\n",
      "example6.cpp\r\n",
      "\u001b[01;32mexample6.cpython-36m-x86_64-linux-gnu.so\u001b[0m*\r\n",
      "example7.cpp\r\n",
      "\u001b[01;32mexample7.cpython-36m-x86_64-linux-gnu.so\u001b[0m*\r\n",
      "example.cpp\r\n",
      "\u001b[01;32mexample.cpython-36m-x86_64-linux-gnu.so\u001b[0m*\r\n",
      "object-oriented.ipynb\r\n"
     ]
    }
   ],
   "source": [
    "ls"
   ]
  },
  {
   "cell_type": "code",
   "execution_count": 4,
   "metadata": {},
   "outputs": [],
   "source": [
    "import example"
   ]
  },
  {
   "cell_type": "code",
   "execution_count": 5,
   "metadata": {},
   "outputs": [],
   "source": [
    "p = example.Pet(\"Krystal\")"
   ]
  },
  {
   "cell_type": "code",
   "execution_count": 6,
   "metadata": {},
   "outputs": [
    {
     "data": {
      "text/plain": [
       "<example.Pet at 0x7f44f00fef80>"
      ]
     },
     "execution_count": 6,
     "metadata": {},
     "output_type": "execute_result"
    }
   ],
   "source": [
    "p"
   ]
  },
  {
   "cell_type": "code",
   "execution_count": 7,
   "metadata": {},
   "outputs": [
    {
     "name": "stdout",
     "output_type": "stream",
     "text": [
      "<example.Pet object at 0x7f44f00fef80>\n"
     ]
    }
   ],
   "source": [
    "print(p)"
   ]
  },
  {
   "cell_type": "code",
   "execution_count": 8,
   "metadata": {},
   "outputs": [
    {
     "data": {
      "text/plain": [
       "'Krystal'"
      ]
     },
     "execution_count": 8,
     "metadata": {},
     "output_type": "execute_result"
    }
   ],
   "source": [
    "p.getName()"
   ]
  },
  {
   "cell_type": "code",
   "execution_count": 9,
   "metadata": {},
   "outputs": [],
   "source": [
    "p.setName('Ripley')"
   ]
  },
  {
   "cell_type": "code",
   "execution_count": 10,
   "metadata": {},
   "outputs": [
    {
     "data": {
      "text/plain": [
       "'Ripley'"
      ]
     },
     "execution_count": 10,
     "metadata": {},
     "output_type": "execute_result"
    }
   ],
   "source": [
    "p.getName()"
   ]
  },
  {
   "cell_type": "markdown",
   "metadata": {},
   "source": [
    "## Binding lambda functions"
   ]
  },
  {
   "cell_type": "code",
   "execution_count": 11,
   "metadata": {},
   "outputs": [
    {
     "name": "stdout",
     "output_type": "stream",
     "text": [
      "Overwriting example2.cpp\n"
     ]
    }
   ],
   "source": [
    "%%file example2.cpp \n",
    "\n",
    "#include <pybind11/pybind11.h>\n",
    "namespace py = pybind11;\n",
    "\n",
    "struct Pet {\n",
    "    Pet(const std::string &name) : name(name) { }\n",
    "    void setName(const std::string &name_) { name = name_; }\n",
    "    const std::string &getName() const { return name; }\n",
    "    \n",
    "    std::string name;\n",
    "};\n",
    "\n",
    "PYBIND11_MODULE(example2, m) {\n",
    "    py::class_<Pet>(m, \"Pet\", py::module_local())\n",
    "        .def(py::init<const std::string &>())\n",
    "        .def(\"setName\", &Pet::setName)\n",
    "        .def(\"getName\", &Pet::getName)\n",
    "        .def(\"__repr__\",\n",
    "             [](const Pet &a) {\n",
    "                 return \"<example.Pet named '\" + a.name + \"'>\";\n",
    "             }\n",
    "            );\n",
    "}"
   ]
  },
  {
   "cell_type": "code",
   "execution_count": 12,
   "metadata": {},
   "outputs": [],
   "source": [
    "!c++ -O3 -Wall -shared -std=c++11 -fPIC `python3 -m pybind11 --includes` example2.cpp -o example2`python3-config --extension-suffix`"
   ]
  },
  {
   "cell_type": "code",
   "execution_count": 13,
   "metadata": {},
   "outputs": [],
   "source": [
    "import example2"
   ]
  },
  {
   "cell_type": "code",
   "execution_count": 14,
   "metadata": {},
   "outputs": [],
   "source": [
    "p = example2.Pet(\"Krystal\")"
   ]
  },
  {
   "cell_type": "code",
   "execution_count": 15,
   "metadata": {},
   "outputs": [
    {
     "name": "stdout",
     "output_type": "stream",
     "text": [
      "<example.Pet named 'Krystal'>\n"
     ]
    }
   ],
   "source": [
    "print(p)"
   ]
  },
  {
   "cell_type": "code",
   "execution_count": 16,
   "metadata": {},
   "outputs": [
    {
     "name": "stdout",
     "output_type": "stream",
     "text": [
      "example2.cpp\r\n",
      "\u001b[0m\u001b[01;32mexample2.cpython-36m-x86_64-linux-gnu.so\u001b[0m*\r\n",
      "example3.cpp\r\n",
      "\u001b[01;32mexample3.cpython-36m-x86_64-linux-gnu.so\u001b[0m*\r\n",
      "example4.cpp\r\n",
      "\u001b[01;32mexample4.cpython-36m-x86_64-linux-gnu.so\u001b[0m*\r\n",
      "example5.cpp\r\n",
      "\u001b[01;32mexample5.cpython-36m-x86_64-linux-gnu.so\u001b[0m*\r\n",
      "example6.cpp\r\n",
      "\u001b[01;32mexample6.cpython-36m-x86_64-linux-gnu.so\u001b[0m*\r\n",
      "example7.cpp\r\n",
      "\u001b[01;32mexample7.cpython-36m-x86_64-linux-gnu.so\u001b[0m*\r\n",
      "example.cpp\r\n",
      "\u001b[01;32mexample.cpython-36m-x86_64-linux-gnu.so\u001b[0m*\r\n",
      "object-oriented.ipynb\r\n"
     ]
    }
   ],
   "source": [
    "ls"
   ]
  },
  {
   "cell_type": "markdown",
   "metadata": {},
   "source": [
    "## Instance and static fields"
   ]
  },
  {
   "cell_type": "markdown",
   "metadata": {},
   "source": [
    "We can also directly expose the `name` field using the `class_::def_readwrite()` method. A similar `class_::def_readonly()` method also exits for `const` fields. "
   ]
  },
  {
   "cell_type": "code",
   "execution_count": 17,
   "metadata": {},
   "outputs": [
    {
     "name": "stdout",
     "output_type": "stream",
     "text": [
      "Overwriting example3.cpp\n"
     ]
    }
   ],
   "source": [
    "%%file example3.cpp \n",
    "\n",
    "#include <pybind11/pybind11.h>\n",
    "namespace py = pybind11;\n",
    "\n",
    "struct Pet {\n",
    "    Pet(const std::string &name) : name(name) { }\n",
    "    void setName(const std::string &name_) { name = name_; }\n",
    "    const std::string &getName() const { return name; }\n",
    "    \n",
    "    std::string name;\n",
    "};\n",
    "\n",
    "PYBIND11_MODULE(example3, m) {\n",
    "    py::class_<Pet>(m, \"Pet\", py::module_local())\n",
    "        .def(py::init<const std::string &>())\n",
    "        .def_readwrite(\"name\", &Pet::name)\n",
    "        .def(\"setName\", &Pet::setName)\n",
    "        .def(\"getName\", &Pet::getName)\n",
    "        .def(\"__repr__\",\n",
    "             [](const Pet &a) {\n",
    "                 return \"<example.Pet named '\" + a.name + \"'>\";\n",
    "             }\n",
    "            );\n",
    "}"
   ]
  },
  {
   "cell_type": "code",
   "execution_count": 18,
   "metadata": {},
   "outputs": [],
   "source": [
    "!c++ -O3 -Wall -shared -std=c++11 -fPIC `python3 -m pybind11 --includes` example3.cpp -o example3`python3-config --extension-suffix`"
   ]
  },
  {
   "cell_type": "code",
   "execution_count": 19,
   "metadata": {},
   "outputs": [],
   "source": [
    "import example3"
   ]
  },
  {
   "cell_type": "code",
   "execution_count": 20,
   "metadata": {},
   "outputs": [],
   "source": [
    "p = example3.Pet('Ripley')"
   ]
  },
  {
   "cell_type": "code",
   "execution_count": 21,
   "metadata": {},
   "outputs": [
    {
     "name": "stdout",
     "output_type": "stream",
     "text": [
      "<example.Pet named 'Ripley'>\n"
     ]
    }
   ],
   "source": [
    "print(p)"
   ]
  },
  {
   "cell_type": "code",
   "execution_count": 22,
   "metadata": {},
   "outputs": [
    {
     "data": {
      "text/plain": [
       "'Ripley'"
      ]
     },
     "execution_count": 22,
     "metadata": {},
     "output_type": "execute_result"
    }
   ],
   "source": [
    "p.name "
   ]
  },
  {
   "cell_type": "code",
   "execution_count": 23,
   "metadata": {},
   "outputs": [],
   "source": [
    "p.name = 'Daisy'"
   ]
  },
  {
   "cell_type": "code",
   "execution_count": 24,
   "metadata": {},
   "outputs": [
    {
     "name": "stdout",
     "output_type": "stream",
     "text": [
      "<example.Pet named 'Daisy'>\n"
     ]
    }
   ],
   "source": [
    "print(p)"
   ]
  },
  {
   "cell_type": "markdown",
   "metadata": {},
   "source": [
    "Now suppose that `Pet::name` was a private internal variable that can only be accessed via setters and getters.\n",
    "\n",
    "In this case, the method `class_::def_property()` (`class_::def_property_readonly()` for read-only data) can be used to provide a field-like interface within Python that will transparently call the setter and getter functions:"
   ]
  },
  {
   "cell_type": "code",
   "execution_count": 25,
   "metadata": {},
   "outputs": [
    {
     "name": "stdout",
     "output_type": "stream",
     "text": [
      "Overwriting example4.cpp\n"
     ]
    }
   ],
   "source": [
    "%%file example4.cpp \n",
    "\n",
    "#include <pybind11/pybind11.h>\n",
    "namespace py = pybind11;\n",
    "\n",
    "class Pet {\n",
    "    \n",
    "public:\n",
    "    Pet(const std::string &name) : name(name) { }\n",
    "    void setName(const std::string &name_) { name = name_; }\n",
    "    const std::string &getName() const { return name; }\n",
    "private:  \n",
    "    std::string name;\n",
    "};\n",
    "\n",
    "PYBIND11_MODULE(example4, m) {\n",
    "    py::class_<Pet>(m, \"Pet\", py::module_local())\n",
    "        .def(py::init<const std::string &>())\n",
    "        .def_property(\"name\", &Pet::getName, &Pet::setName)\n",
    "        .def(\"setName\", &Pet::setName)\n",
    "        .def(\"getName\", &Pet::getName)\n",
    "        .def(\"__repr__\",\n",
    "             [](const Pet &a) {\n",
    "                 return \"<example.Pet named '\" + a.getName() + \"'>\";\n",
    "             }\n",
    "            );\n",
    "}"
   ]
  },
  {
   "cell_type": "code",
   "execution_count": 26,
   "metadata": {},
   "outputs": [],
   "source": [
    "!c++ -O3 -Wall -shared -std=c++11 -fPIC `python3 -m pybind11 --includes` example4.cpp -o example4`python3-config --extension-suffix`"
   ]
  },
  {
   "cell_type": "code",
   "execution_count": 27,
   "metadata": {},
   "outputs": [],
   "source": [
    "import example4"
   ]
  },
  {
   "cell_type": "code",
   "execution_count": 28,
   "metadata": {},
   "outputs": [],
   "source": [
    "p = example4.Pet('Ripley')"
   ]
  },
  {
   "cell_type": "code",
   "execution_count": 29,
   "metadata": {},
   "outputs": [
    {
     "name": "stdout",
     "output_type": "stream",
     "text": [
      "<example.Pet named 'Ripley'>\n"
     ]
    }
   ],
   "source": [
    "print(p)"
   ]
  },
  {
   "cell_type": "code",
   "execution_count": 30,
   "metadata": {},
   "outputs": [
    {
     "data": {
      "text/plain": [
       "'Ripley'"
      ]
     },
     "execution_count": 30,
     "metadata": {},
     "output_type": "execute_result"
    }
   ],
   "source": [
    "p.name"
   ]
  },
  {
   "cell_type": "markdown",
   "metadata": {},
   "source": [
    "## Dynamic attributes"
   ]
  },
  {
   "cell_type": "markdown",
   "metadata": {},
   "source": [
    "To enable dynamic attributes for C++ classes, the `py::dynamic_attr` tag must be added to the `py::class_ constructor`:\n",
    "\n"
   ]
  },
  {
   "cell_type": "code",
   "execution_count": 31,
   "metadata": {},
   "outputs": [
    {
     "name": "stdout",
     "output_type": "stream",
     "text": [
      "Overwriting example5.cpp\n"
     ]
    }
   ],
   "source": [
    "%%file example5.cpp \n",
    "\n",
    "#include <pybind11/pybind11.h>\n",
    "namespace py = pybind11;\n",
    "\n",
    "class Pet {\n",
    "    \n",
    "public:\n",
    "    Pet(const std::string &name) : name(name) { }\n",
    "    void setName(const std::string &name_) { name = name_; }\n",
    "    const std::string &getName() const { return name; }\n",
    "private:  \n",
    "    std::string name;\n",
    "};\n",
    "\n",
    "PYBIND11_MODULE(example5, m) {\n",
    "    py::class_<Pet>(m, \"Pet\", py::module_local(), py::dynamic_attr())\n",
    "        .def(py::init<const std::string &>())\n",
    "        .def_property(\"name\", &Pet::getName, &Pet::setName)\n",
    "        .def(\"setName\", &Pet::setName)\n",
    "        .def(\"getName\", &Pet::getName)\n",
    "        .def(\"__repr__\",\n",
    "             [](const Pet &a) {\n",
    "                 return \"<example.Pet named '\" + a.getName() + \"'>\";\n",
    "             }\n",
    "            );\n",
    "}"
   ]
  },
  {
   "cell_type": "code",
   "execution_count": 32,
   "metadata": {},
   "outputs": [],
   "source": [
    "!c++ -O3 -Wall -shared -std=c++11 -fPIC `python3 -m pybind11 --includes` example5.cpp -o example5`python3-config --extension-suffix`"
   ]
  },
  {
   "cell_type": "code",
   "execution_count": 33,
   "metadata": {},
   "outputs": [],
   "source": [
    "import example5"
   ]
  },
  {
   "cell_type": "code",
   "execution_count": 34,
   "metadata": {},
   "outputs": [],
   "source": [
    "p = example5.Pet('Ripley')"
   ]
  },
  {
   "cell_type": "code",
   "execution_count": 35,
   "metadata": {},
   "outputs": [
    {
     "data": {
      "text/plain": [
       "'Ripley'"
      ]
     },
     "execution_count": 35,
     "metadata": {},
     "output_type": "execute_result"
    }
   ],
   "source": [
    "p.name"
   ]
  },
  {
   "cell_type": "code",
   "execution_count": 36,
   "metadata": {},
   "outputs": [],
   "source": [
    "p.age = 6 # OK, dynamically add a new attribute"
   ]
  },
  {
   "cell_type": "code",
   "execution_count": 37,
   "metadata": {},
   "outputs": [
    {
     "name": "stdout",
     "output_type": "stream",
     "text": [
      "<example.Pet named 'Ripley'>\n"
     ]
    }
   ],
   "source": [
    "print(p)"
   ]
  },
  {
   "cell_type": "code",
   "execution_count": 38,
   "metadata": {},
   "outputs": [
    {
     "data": {
      "text/plain": [
       "6"
      ]
     },
     "execution_count": 38,
     "metadata": {},
     "output_type": "execute_result"
    }
   ],
   "source": [
    "p.age"
   ]
  },
  {
   "cell_type": "code",
   "execution_count": 39,
   "metadata": {},
   "outputs": [],
   "source": [
    "p.name = 'Bob'"
   ]
  },
  {
   "cell_type": "code",
   "execution_count": 40,
   "metadata": {},
   "outputs": [
    {
     "data": {
      "text/plain": [
       "{'age': 6}"
      ]
     },
     "execution_count": 40,
     "metadata": {},
     "output_type": "execute_result"
    }
   ],
   "source": [
    "p.__dict__ # Just like a native Python class"
   ]
  },
  {
   "cell_type": "markdown",
   "metadata": {},
   "source": [
    "Note that there is a small runtime cost for a class with dynamic attributes. Not only because of the addition of a `__dict__`, but also because of more expensive garbage collection tracking which must be activated to resolve possible circular references. Native Python classes incur this same cost by default, so this is not anything to worry about. By default, pybind11 classes are more efficient than native Python classes. Enabling dynamic attributes just brings them on par.\n",
    "\n"
   ]
  },
  {
   "cell_type": "markdown",
   "metadata": {},
   "source": [
    "## Inheritance and automatic upcasting\n",
    "\n",
    "There are two different ways of indicating a hierarchical relationship to pybind11: \n",
    "- the first specifies the C++ base class as an extra template parameter of the `class_`:"
   ]
  },
  {
   "cell_type": "code",
   "execution_count": 41,
   "metadata": {},
   "outputs": [
    {
     "name": "stdout",
     "output_type": "stream",
     "text": [
      "Overwriting example6.cpp\n"
     ]
    }
   ],
   "source": [
    "%%file example6.cpp \n",
    "\n",
    "#include <pybind11/pybind11.h>\n",
    "namespace py = pybind11;\n",
    "\n",
    "struct Pet {\n",
    "    Pet(const std::string &name) : name(name) { }\n",
    "    void setName(const std::string &name_) { name = name_; }\n",
    "    const std::string &getName() const { return name; }\n",
    "    \n",
    "    std::string name;\n",
    "};\n",
    "\n",
    "\n",
    "struct Dog : Pet {\n",
    "    Dog(const std::string &name) : Pet(name) { }\n",
    "    std::string bark() const { return \"woof!\"; }\n",
    "};\n",
    "\n",
    "PYBIND11_MODULE(example6, m) {\n",
    "    py::class_<Pet>(m, \"Pet\", py::module_local(), py::dynamic_attr())\n",
    "        .def(py::init<const std::string &>())\n",
    "        .def_readwrite(\"name\", &Pet::name);\n",
    "    \n",
    "    // Method 1: template paramter:\n",
    "    py::class_<Dog, Pet /* <- specify C++ parent type */>(m, \"Dog\")\n",
    "        .def(py::init<const std::string &>())\n",
    "        .def(\"bark\", &Dog::bark);\n",
    "}"
   ]
  },
  {
   "cell_type": "code",
   "execution_count": 42,
   "metadata": {},
   "outputs": [],
   "source": [
    "!c++ -O3 -Wall -shared -std=c++11 -fPIC `python3 -m pybind11 --includes` example6.cpp -o example6`python3-config --extension-suffix`"
   ]
  },
  {
   "cell_type": "code",
   "execution_count": 43,
   "metadata": {},
   "outputs": [],
   "source": [
    "import example6"
   ]
  },
  {
   "cell_type": "code",
   "execution_count": 44,
   "metadata": {},
   "outputs": [],
   "source": [
    "p = example6.Dog('Molly')"
   ]
  },
  {
   "cell_type": "code",
   "execution_count": 45,
   "metadata": {},
   "outputs": [
    {
     "data": {
      "text/plain": [
       "'Molly'"
      ]
     },
     "execution_count": 45,
     "metadata": {},
     "output_type": "execute_result"
    }
   ],
   "source": [
    "p.name"
   ]
  },
  {
   "cell_type": "code",
   "execution_count": 46,
   "metadata": {},
   "outputs": [
    {
     "data": {
      "text/plain": [
       "'woof!'"
      ]
     },
     "execution_count": 46,
     "metadata": {},
     "output_type": "execute_result"
    }
   ],
   "source": [
    "p.bark()"
   ]
  },
  {
   "cell_type": "markdown",
   "metadata": {},
   "source": [
    "- Alternatively, we can also assign a name to the previously bound Pet class_ object and reference it when binding the Dog class:"
   ]
  },
  {
   "cell_type": "code",
   "execution_count": 47,
   "metadata": {},
   "outputs": [
    {
     "name": "stdout",
     "output_type": "stream",
     "text": [
      "Overwriting example7.cpp\n"
     ]
    }
   ],
   "source": [
    "%%file example7.cpp \n",
    "\n",
    "#include <pybind11/pybind11.h>\n",
    "namespace py = pybind11;\n",
    "\n",
    "struct Pet {\n",
    "    Pet(const std::string &name) : name(name) { }\n",
    "    void setName(const std::string &name_) { name = name_; }\n",
    "    const std::string &getName() const { return name; }\n",
    "    \n",
    "    std::string name;\n",
    "};\n",
    "\n",
    "\n",
    "struct Dog : Pet {\n",
    "    Dog(const std::string &name) : Pet(name) { }\n",
    "    std::string bark() const { return \"woof!\"; }\n",
    "};\n",
    "\n",
    "PYBIND11_MODULE(example7, m) {\n",
    "    py::class_<Pet> pet(m, \"Pet\", py::module_local(), py::dynamic_attr());\n",
    "        pet.def(py::init<const std::string &>())\n",
    "        .def_readwrite(\"name\", &Pet::name);\n",
    "    \n",
    "    // Method 2: pass parent class_ object\n",
    "    py::class_<Dog>(m, \"Dog\", pet, py::module_local(), py::dynamic_attr() /* <- specify C++ parent type */)\n",
    "        .def(py::init<const std::string &>())\n",
    "        .def(\"bark\", &Dog::bark);\n",
    "}"
   ]
  },
  {
   "cell_type": "code",
   "execution_count": 48,
   "metadata": {},
   "outputs": [],
   "source": [
    "!c++ -O3 -Wall -shared -std=c++11 -fPIC `python3 -m pybind11 --includes` example7.cpp -o example7`python3-config --extension-suffix`"
   ]
  },
  {
   "cell_type": "code",
   "execution_count": 49,
   "metadata": {},
   "outputs": [],
   "source": [
    "import example7"
   ]
  },
  {
   "cell_type": "code",
   "execution_count": 50,
   "metadata": {},
   "outputs": [],
   "source": [
    "p = example7.Dog('Bob')"
   ]
  },
  {
   "cell_type": "code",
   "execution_count": 51,
   "metadata": {},
   "outputs": [
    {
     "name": "stdout",
     "output_type": "stream",
     "text": [
      "<example7.Dog object at 0x7f44f014fe60>\n"
     ]
    }
   ],
   "source": [
    "print(p)"
   ]
  },
  {
   "cell_type": "code",
   "execution_count": 52,
   "metadata": {},
   "outputs": [
    {
     "data": {
      "text/plain": [
       "'Bob'"
      ]
     },
     "execution_count": 52,
     "metadata": {},
     "output_type": "execute_result"
    }
   ],
   "source": [
    "p.name"
   ]
  },
  {
   "cell_type": "code",
   "execution_count": 53,
   "metadata": {},
   "outputs": [
    {
     "data": {
      "text/plain": [
       "'woof!'"
      ]
     },
     "execution_count": 53,
     "metadata": {},
     "output_type": "execute_result"
    }
   ],
   "source": [
    "p.bark()"
   ]
  },
  {
   "cell_type": "markdown",
   "metadata": {},
   "source": [
    "## Overloaded methods\n",
    "\n",
    "Sometimes there are several overloaded C++ methods with the same name taking different kings of input arguments as follows:\n",
    "\n",
    "Attempting to bind `Pet::set` will cause an error since the compiler does not know which method the user intended to select. We can disambiguate by casting them to function pointers. Binding multiple functions to the same Python name automatically creates a chain of function overloads that will be tried in sequence. "
   ]
  },
  {
   "cell_type": "code",
   "execution_count": 54,
   "metadata": {},
   "outputs": [
    {
     "name": "stdout",
     "output_type": "stream",
     "text": [
      "Writing example8.cpp\n"
     ]
    }
   ],
   "source": [
    "%%file example8.cpp \n",
    "\n",
    "#include <pybind11/pybind11.h>\n",
    "namespace py = pybind11;\n",
    "\n",
    "struct Pet {\n",
    "    Pet(const std::string &name, int age) : name(name), age(age) { }\n",
    "    \n",
    "    void set (int age_) { age = age_; }\n",
    "    void set (const std::string &name_) { name = name_; }\n",
    "    \n",
    "    std::string name;\n",
    "    int age;\n",
    "};\n",
    "\n",
    "PYBIND11_MODULE(example8, m) {\n",
    "    py::class_<Pet>(m, \"Pet\", py::module_local(), py::dynamic_attr())\n",
    "        .def(py::init<const std::string &, int>())\n",
    "        .def(\"set\", (void (Pet::*)(int)) &Pet::set, \"Set the pet's age\")\n",
    "        .def(\"set\", (void (Pet::*)(const std::string &)) &Pet::set, \"Set the pet's name\");\n",
    "}\n"
   ]
  },
  {
   "cell_type": "code",
   "execution_count": 55,
   "metadata": {},
   "outputs": [],
   "source": [
    "!c++ -O3 -Wall -shared -std=c++11 -fPIC `python3 -m pybind11 --includes` example8.cpp -o example8`python3-config --extension-suffix`"
   ]
  },
  {
   "cell_type": "code",
   "execution_count": 56,
   "metadata": {},
   "outputs": [],
   "source": [
    "import example8"
   ]
  },
  {
   "cell_type": "code",
   "execution_count": 57,
   "metadata": {},
   "outputs": [
    {
     "name": "stdout",
     "output_type": "stream",
     "text": [
      "Help on class Pet in module example8:\n",
      "\n",
      "class Pet(pybind11_builtins.pybind11_object)\n",
      " |  Method resolution order:\n",
      " |      Pet\n",
      " |      pybind11_builtins.pybind11_object\n",
      " |      builtins.object\n",
      " |  \n",
      " |  Methods defined here:\n",
      " |  \n",
      " |  __init__(...)\n",
      " |      __init__(self: example8.Pet, arg0: str, arg1: int) -> None\n",
      " |  \n",
      " |  set(...)\n",
      " |      set(*args, **kwargs)\n",
      " |      Overloaded function.\n",
      " |      \n",
      " |      1. set(self: example8.Pet, arg0: int) -> None\n",
      " |      \n",
      " |      Set the pet's age\n",
      " |      \n",
      " |      2. set(self: example8.Pet, arg0: str) -> None\n",
      " |      \n",
      " |      Set the pet's name\n",
      " |  \n",
      " |  ----------------------------------------------------------------------\n",
      " |  Data descriptors defined here:\n",
      " |  \n",
      " |  __dict__\n",
      " |  \n",
      " |  ----------------------------------------------------------------------\n",
      " |  Data and other attributes defined here:\n",
      " |  \n",
      " |  __pybind11_module_local_v1__ = <capsule object NULL>\n",
      " |  \n",
      " |  ----------------------------------------------------------------------\n",
      " |  Methods inherited from pybind11_builtins.pybind11_object:\n",
      " |  \n",
      " |  __new__(*args, **kwargs) from pybind11_builtins.pybind11_type\n",
      " |      Create and return a new object.  See help(type) for accurate signature.\n",
      "\n"
     ]
    }
   ],
   "source": [
    "help(example8.Pet)"
   ]
  },
  {
   "cell_type": "markdown",
   "metadata": {},
   "source": [
    "If you have a C++14 compatible compiler, you can use an alternative syntax to cast the overloaded function:\n",
    "\n"
   ]
  },
  {
   "cell_type": "code",
   "execution_count": 58,
   "metadata": {},
   "outputs": [
    {
     "name": "stdout",
     "output_type": "stream",
     "text": [
      "Writing example9.cpp\n"
     ]
    }
   ],
   "source": [
    "%%file example9.cpp \n",
    "\n",
    "#include <pybind11/pybind11.h>\n",
    "namespace py = pybind11;\n",
    "\n",
    "struct Pet {\n",
    "    Pet(const std::string &name, int age) : name(name), age(age) { }\n",
    "    \n",
    "    void set (int age_) { age = age_; }\n",
    "    void set (const std::string &name_) { name = name_; }\n",
    "    \n",
    "    std::string name;\n",
    "    int age;\n",
    "};\n",
    "\n",
    "PYBIND11_MODULE(example9, m) {\n",
    "    py::class_<Pet>(m, \"Pet\", py::module_local(), py::dynamic_attr())\n",
    "        .def(py::init<const std::string &, int>())\n",
    "        .def(\"set\", py::overload_cast<int>(&Pet::set), \"Set the pet's age\")\n",
    "        .def(\"set\", py::overload_cast<const std::string &>(&Pet::set), \"Set the pet's name\");\n",
    "}\n"
   ]
  },
  {
   "cell_type": "code",
   "execution_count": 59,
   "metadata": {},
   "outputs": [],
   "source": [
    "!c++ -O3 -Wall -shared -std=c++14 -fPIC `python3 -m pybind11 --includes` example9.cpp -o example9`python3-config --extension-suffix`"
   ]
  },
  {
   "cell_type": "code",
   "execution_count": 60,
   "metadata": {},
   "outputs": [
    {
     "name": "stdout",
     "output_type": "stream",
     "text": [
      "example2.cpp\r\n",
      "\u001b[0m\u001b[01;32mexample2.cpython-36m-x86_64-linux-gnu.so\u001b[0m*\r\n",
      "example3.cpp\r\n",
      "\u001b[01;32mexample3.cpython-36m-x86_64-linux-gnu.so\u001b[0m*\r\n",
      "example4.cpp\r\n",
      "\u001b[01;32mexample4.cpython-36m-x86_64-linux-gnu.so\u001b[0m*\r\n",
      "example5.cpp\r\n",
      "\u001b[01;32mexample5.cpython-36m-x86_64-linux-gnu.so\u001b[0m*\r\n",
      "example6.cpp\r\n",
      "\u001b[01;32mexample6.cpython-36m-x86_64-linux-gnu.so\u001b[0m*\r\n",
      "example7.cpp\r\n",
      "\u001b[01;32mexample7.cpython-36m-x86_64-linux-gnu.so\u001b[0m*\r\n",
      "example8.cpp\r\n",
      "\u001b[01;32mexample8.cpython-36m-x86_64-linux-gnu.so\u001b[0m*\r\n",
      "example9.cpp\r\n",
      "\u001b[01;32mexample9.cpython-36m-x86_64-linux-gnu.so\u001b[0m*\r\n",
      "example.cpp\r\n",
      "\u001b[01;32mexample.cpython-36m-x86_64-linux-gnu.so\u001b[0m*\r\n",
      "object-oriented.ipynb\r\n"
     ]
    }
   ],
   "source": [
    "ls"
   ]
  },
  {
   "cell_type": "code",
   "execution_count": 61,
   "metadata": {},
   "outputs": [],
   "source": [
    "import example9"
   ]
  },
  {
   "cell_type": "code",
   "execution_count": 63,
   "metadata": {},
   "outputs": [
    {
     "name": "stdout",
     "output_type": "stream",
     "text": [
      "Help on class Pet in module example9:\n",
      "\n",
      "class Pet(pybind11_builtins.pybind11_object)\n",
      " |  Method resolution order:\n",
      " |      Pet\n",
      " |      pybind11_builtins.pybind11_object\n",
      " |      builtins.object\n",
      " |  \n",
      " |  Methods defined here:\n",
      " |  \n",
      " |  __init__(...)\n",
      " |      __init__(self: example9.Pet, arg0: str, arg1: int) -> None\n",
      " |  \n",
      " |  set(...)\n",
      " |      set(*args, **kwargs)\n",
      " |      Overloaded function.\n",
      " |      \n",
      " |      1. set(self: example9.Pet, arg0: int) -> None\n",
      " |      \n",
      " |      Set the pet's age\n",
      " |      \n",
      " |      2. set(self: example9.Pet, arg0: str) -> None\n",
      " |      \n",
      " |      Set the pet's name\n",
      " |  \n",
      " |  ----------------------------------------------------------------------\n",
      " |  Data descriptors defined here:\n",
      " |  \n",
      " |  __dict__\n",
      " |  \n",
      " |  ----------------------------------------------------------------------\n",
      " |  Data and other attributes defined here:\n",
      " |  \n",
      " |  __pybind11_module_local_v1__ = <capsule object NULL>\n",
      " |  \n",
      " |  ----------------------------------------------------------------------\n",
      " |  Methods inherited from pybind11_builtins.pybind11_object:\n",
      " |  \n",
      " |  __new__(*args, **kwargs) from pybind11_builtins.pybind11_type\n",
      " |      Create and return a new object.  See help(type) for accurate signature.\n",
      "\n"
     ]
    }
   ],
   "source": [
    "help(example9.Pet)"
   ]
  },
  {
   "cell_type": "code",
   "execution_count": 66,
   "metadata": {},
   "outputs": [],
   "source": [
    "p = example9.Pet('Molly', 10)"
   ]
  },
  {
   "cell_type": "code",
   "execution_count": 67,
   "metadata": {},
   "outputs": [
    {
     "name": "stdout",
     "output_type": "stream",
     "text": [
      "<example9.Pet object at 0x7f44f0051468>\n"
     ]
    }
   ],
   "source": [
    "print(p)"
   ]
  },
  {
   "cell_type": "code",
   "execution_count": 68,
   "metadata": {},
   "outputs": [],
   "source": [
    "p.set('Bob')"
   ]
  },
  {
   "cell_type": "code",
   "execution_count": 69,
   "metadata": {},
   "outputs": [],
   "source": [
    "p.set(15)"
   ]
  },
  {
   "cell_type": "markdown",
   "metadata": {},
   "source": [
    "## Enumerations and internal types\n",
    "\n",
    "Let's now suppose that the example class contains an internal enumeration type, e.g.:"
   ]
  },
  {
   "cell_type": "code",
   "execution_count": 72,
   "metadata": {},
   "outputs": [
    {
     "name": "stdout",
     "output_type": "stream",
     "text": [
      "Overwriting example10.cpp\n"
     ]
    }
   ],
   "source": [
    "%%file example10.cpp\n",
    "\n",
    "#include<pybind11/pybind11.h>\n",
    "\n",
    "namespace py = pybind11;\n",
    "\n",
    "struct Pet {\n",
    "    enum Kind {\n",
    "        Dog = 0,\n",
    "        Cat\n",
    "    };\n",
    "    \n",
    "    Pet(const std::string &name, Kind type) : name(name), type(type) { }\n",
    "    std::string name;\n",
    "    Kind type; \n",
    "};\n",
    "\n",
    "\n",
    "PYBIND11_MODULE(example10, m) {\n",
    "    py::class_<Pet> pet(m, \"Pet\", py::module_local(), py::dynamic_attr());\n",
    "    \n",
    "    pet.def(py::init<const std::string &, Pet::Kind>())\n",
    "       .def_readwrite(\"name\", &Pet::name)\n",
    "       .def_readwrite(\"type\", &Pet::type);\n",
    "    \n",
    "    py::enum_<Pet::Kind>(pet, \"Kind\")\n",
    "        .value(\"Dog\", Pet::Kind::Dog)\n",
    "        .value(\"Cat\", Pet::Kind::Cat)\n",
    "        .export_values();\n",
    "}"
   ]
  },
  {
   "cell_type": "code",
   "execution_count": 73,
   "metadata": {},
   "outputs": [],
   "source": [
    "!c++ -O3 -Wall -shared -std=c++11 -fPIC `python3 -m pybind11 --includes` example10.cpp -o example10`python3-config --extension-suffix`"
   ]
  },
  {
   "cell_type": "code",
   "execution_count": 74,
   "metadata": {},
   "outputs": [],
   "source": [
    "import example10"
   ]
  },
  {
   "cell_type": "code",
   "execution_count": 75,
   "metadata": {},
   "outputs": [],
   "source": [
    "p = example10.Pet('Lucy', example10.Pet.Cat)"
   ]
  },
  {
   "cell_type": "code",
   "execution_count": 76,
   "metadata": {},
   "outputs": [
    {
     "data": {
      "text/plain": [
       "<example10.Pet at 0x7f44f014fe60>"
      ]
     },
     "execution_count": 76,
     "metadata": {},
     "output_type": "execute_result"
    }
   ],
   "source": [
    "p"
   ]
  },
  {
   "cell_type": "code",
   "execution_count": 77,
   "metadata": {},
   "outputs": [
    {
     "data": {
      "text/plain": [
       "Kind.Cat"
      ]
     },
     "execution_count": 77,
     "metadata": {},
     "output_type": "execute_result"
    }
   ],
   "source": [
    "p.type"
   ]
  },
  {
   "cell_type": "code",
   "execution_count": 78,
   "metadata": {},
   "outputs": [
    {
     "data": {
      "text/plain": [
       "1"
      ]
     },
     "execution_count": 78,
     "metadata": {},
     "output_type": "execute_result"
    }
   ],
   "source": [
    "int(p.type)"
   ]
  },
  {
   "cell_type": "markdown",
   "metadata": {},
   "source": [
    "The entries defined by the enumeration type are exposed in the `__members__` property:"
   ]
  },
  {
   "cell_type": "code",
   "execution_count": 80,
   "metadata": {},
   "outputs": [
    {
     "data": {
      "text/plain": [
       "{'Dog': Kind.Dog, 'Cat': Kind.Cat}"
      ]
     },
     "execution_count": 80,
     "metadata": {},
     "output_type": "execute_result"
    }
   ],
   "source": [
    "example10.Pet.Kind.__members__"
   ]
  }
 ],
 "metadata": {
  "kernelspec": {
   "display_name": "Python 3",
   "language": "python",
   "name": "python3"
  },
  "language_info": {
   "codemirror_mode": {
    "name": "ipython",
    "version": 3
   },
   "file_extension": ".py",
   "mimetype": "text/x-python",
   "name": "python",
   "nbconvert_exporter": "python",
   "pygments_lexer": "ipython3",
   "version": "3.6.5"
  },
  "toc": {
   "base_numbering": 1,
   "nav_menu": {},
   "number_sections": false,
   "sideBar": true,
   "skip_h1_title": false,
   "title_cell": "Table of Contents",
   "title_sidebar": "Contents",
   "toc_cell": true,
   "toc_position": {},
   "toc_section_display": true,
   "toc_window_display": true
  }
 },
 "nbformat": 4,
 "nbformat_minor": 2
}
